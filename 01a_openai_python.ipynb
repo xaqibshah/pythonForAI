{
 "cells": [
  {
   "cell_type": "code",
   "execution_count": 2,
   "metadata": {},
   "outputs": [
    {
     "name": "stdout",
     "output_type": "stream",
     "text": [
      "I hate fast food : The Sentiment is negative\n"
     ]
    }
   ],
   "source": [
    "from openai import OpenAI\n",
    "c = OpenAI(api_key=\"sk-###\")\n",
    "def Senitment_analysis(text):\n",
    "    messages = [\n",
    "        {\"role\": \"system\", \"content\": \"\"\"You are trained to analyze and detect the sentiment of given text.\n",
    "        If you're unsure of an answer, you can say \"not sure\" and recommend users to review manually.\"\"\"},\n",
    "        {\"role\": \"user\", \"content\": f\"\"\"Analyze the following text and determine if the sentiment is: positive or negative.\n",
    "        Return answer in single word as either positive or negative: {text}\"\"\"}\n",
    "]\n",
    "    response = c.chat.completions.create(\n",
    "    model=\"gpt-3.5-turbo\",\n",
    "    messages=messages,\n",
    "    max_tokens=1,\n",
    "    n=1,\n",
    "    stop=None,\n",
    "    temperature=0)\n",
    "    response_text = response.choices[0].message.content.strip().lower()\n",
    "    return response_text\n",
    "# calling the function\n",
    "input = 'I hate fast food'\n",
    "response = Senitment_analysis(input)\n",
    "print(input,': The Sentiment is', response)"
   ]
  }
 ],
 "metadata": {
  "kernelspec": {
   "display_name": "openAI",
   "language": "python",
   "name": "python3"
  },
  "language_info": {
   "codemirror_mode": {
    "name": "ipython",
    "version": 3
   },
   "file_extension": ".py",
   "mimetype": "text/x-python",
   "name": "python",
   "nbconvert_exporter": "python",
   "pygments_lexer": "ipython3",
   "version": "3.12.0"
  }
 },
 "nbformat": 4,
 "nbformat_minor": 2
}
