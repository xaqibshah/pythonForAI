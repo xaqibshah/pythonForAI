{
 "cells": [
  {
   "cell_type": "markdown",
   "metadata": {},
   "source": [
    "# Calling and working with openai API for Article Writing"
   ]
  },
  {
   "cell_type": "code",
   "execution_count": 33,
   "metadata": {},
   "outputs": [],
   "source": [
    "#import libraries\n",
    "from openai import OpenAI"
   ]
  },
  {
   "cell_type": "code",
   "execution_count": 34,
   "metadata": {},
   "outputs": [],
   "source": [
    "c = OpenAI(api_key =\"sk-###\")"
   ]
  },
  {
   "cell_type": "code",
   "execution_count": 35,
   "metadata": {},
   "outputs": [
    {
     "name": "stdout",
     "output_type": "stream",
     "text": [
      "title: artificial intelligence (ai): revolutionizing the future\n",
      "\n",
      "introduction:\n",
      "artificial intelligence (ai) has become one of the most significant technological advancements of our time. it has the potential to revolutionize various industries and transform the way we live and work. ai refers to the development of computer systems that can perform tasks that typically require human intelligence, such as visual perception, speech recognition, decision-making, and problem-solving. in this blog post, we will explore the fascinating world of ai, its applications, and its impact on society.\n",
      "\n",
      "image url: [insert relevant ai image url here]\n",
      "\n",
      "subheadings:\n",
      "\n",
      "1) understanding artificial intelligence:\n",
      "ai is a multidisciplinary field that combines computer science, mathematics, and cognitive science to create intelligent machines. it involves developing algorithms and models that enable machines to learn from data, adapt to new situations, and perform tasks autonomously. machine learning (ml) and deep learning (dl) are two prominent subfields of ai that have gained significant attention in recent years.\n",
      "\n",
      "machine learning: ml is a subset of ai that focuses on enabling computers to learn from data without being explicitly programmed. it involves training algorithms on large datasets to recognize patterns, make predictions, and make data-driven decisions. ml algorithms can be categorized into supervised learning, unsupervised learning, and reinforcement learning.\n",
      "\n",
      "deep learning: dl is a subset of ml that simulates the human brain's neural networks to process and understand complex data. it utilizes artificial neural networks with multiple layers to extract hierarchical representations from data. dl has achieved remarkable breakthroughs in image and speech recognition, natural language processing, and autonomous vehicles.\n",
      "\n",
      "2) applications of artificial intelligence:\n",
      "ai has a wide range of applications across various industries, transforming the way businesses operate and enhancing our daily lives.\n",
      "\n",
      "a) healthcare: ai is revolutionizing healthcare by improving diagnostics, drug discovery, and personalized medicine. machine learning algorithms can analyze medical images to detect diseases like cancer and identify potential treatment options. ai-powered chatbots can provide personalized healthcare advice and support.\n",
      "\n",
      "b) finance: ai is reshaping the finance industry by automating manual tasks, detecting fraud, and improving customer experiences. ai algorithms can analyze vast amounts of financial data to identify patterns and make accurate predictions. chatbots and virtual assistants are being used to provide personalized financial advice.\n",
      "\n",
      "c) transportation: ai is playing a crucial role in the development of autonomous vehicles, making transportation safer and more efficient. ai algorithms can process real-time data from sensors and cameras to navigate roads, detect obstacles, and make informed decisions. ai-powered traffic management systems can optimize traffic flow and reduce congestion.\n",
      "\n",
      "d) retail: ai is transforming the retail industry by enabling personalized shopping experiences and improving supply chain management. ai algorithms can analyze customer data to provide personalized product recommendations. robots and automated systems are being used in warehouses for efficient inventory management and order fulfillment.\n",
      "\n",
      "body:\n",
      "the impact of ai extends beyond these industries, with applications in education, agriculture, manufacturing, and many more. ai-powered virtual assistants like siri and alexa have become an integral part of our daily lives, helping us with tasks, answering questions, and providing information. ai algorithms are being used in natural language processing to improve translation, sentiment analysis, and speech recognition.\n",
      "\n",
      "however, with the rapid advancement of ai, there are also concerns and ethical considerations. the potential loss of jobs due to automation is a significant concern. while ai can automate repetitive tasks, it also has the potential to create new job opportunities and enhance human capabilities. ensuring the responsible and ethical use of ai is crucial to mitigate potential risks.\n",
      "\n",
      "general faq:\n",
      "\n",
      "q1) what is the difference between ai, ml, and dl?\n",
      "ai is a broad field that encompasses the development of intelligent machines. machine learning is a subset of ai that focuses on enabling computers to learn from data without being explicitly programmed. deep learning is a subset of machine learning that simulates the human brain's neural networks to process and understand complex data.\n",
      "\n",
      "q2) can ai replace human intelligence?\n",
      "ai can perform specific tasks that require human intelligence, but it is unlikely to completely replace human intelligence. ai is designed to augment human capabilities, enhance productivity, and automate repetitive tasks, allowing humans to focus on more complex and creative endeavors.\n",
      "\n",
      "q3) what are the ethical concerns surrounding ai?\n",
      "ethical concerns include job displacement, privacy and security issues, bias in ai algorithms, and the potential for ai to be used for malicious purposes. it is crucial to ensure the responsible and ethical development and use of ai to mitigate these concerns.\n",
      "\n",
      "conclusion:\n",
      "artificial intelligence is revolutionizing the future by transforming various industries and enhancing our daily lives. its applications in healthcare, finance, transportation, retail, and many other sectors are reshaping business processes and improving efficiency. while there are concerns and ethical considerations, it is essential to harness the potential of ai responsibly and ethically. as ai continues to evolve, it will undoubtedly play a significant role in shaping the future of humanity.\n"
     ]
    }
   ],
   "source": [
    "def generate_blog(topic):\n",
    "    messages = [\n",
    "       { 'role' : 'system', 'content': \"\"\" You are trained to analyze a topic generate a blog post.\n",
    "        The blog post must contain 1500 to 3000 words (No less than 1500 owrds). \"\"\"},\n",
    "         { 'role' : 'user', 'content': f\"\"\" Analyze the topic and generate a blog post. The topic is {topic}\n",
    "The blog post should contain the following format.\n",
    "          1) Title (Not more than one line).\n",
    "          2) Introduction (Giver introduction about the topic)\n",
    "          3) Add an image url relevent to the topic.\n",
    "          4) add 2/3 subheadings and explain them.\n",
    "          5) Body (should describe the facts and findings)\n",
    "          6) General FAQ regarding the topic\n",
    "          7) Conclusion of the topic. \"\"\" }\n",
    "    ]\n",
    "\n",
    "    response = c.chat.completions.create(\n",
    "    model=\"gpt-3.5-turbo\",\n",
    "    messages=messages,\n",
    "    max_tokens=3000,\n",
    "    n=1,\n",
    "    stop=None,\n",
    "    temperature=0.5)\n",
    "    response_text = response.choices[0].message.content.strip().lower()\n",
    "    return response_text\n",
    "\n",
    "\n",
    "user_input = 'Artificial Intelligance AI'\n",
    "blog = generate_blog(user_input)\n",
    "print(blog)\n",
    "\n",
    "\n"
   ]
  },
  {
   "cell_type": "code",
   "execution_count": null,
   "metadata": {},
   "outputs": [],
   "source": []
  }
 ],
 "metadata": {
  "kernelspec": {
   "display_name": "openAI",
   "language": "python",
   "name": "python3"
  },
  "language_info": {
   "codemirror_mode": {
    "name": "ipython",
    "version": 3
   },
   "file_extension": ".py",
   "mimetype": "text/x-python",
   "name": "python",
   "nbconvert_exporter": "python",
   "pygments_lexer": "ipython3",
   "version": "3.12.0"
  }
 },
 "nbformat": 4,
 "nbformat_minor": 2
}
