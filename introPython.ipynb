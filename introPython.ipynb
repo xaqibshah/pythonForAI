{
 "cells": [
  {
   "cell_type": "code",
   "execution_count": 2,
   "metadata": {},
   "outputs": [
    {
     "name": "stdout",
     "output_type": "stream",
     "text": [
      "hello world\n"
     ]
    }
   ],
   "source": [
    "print('hello world')"
   ]
  },
  {
   "cell_type": "code",
   "execution_count": 6,
   "metadata": {},
   "outputs": [
    {
     "name": "stdout",
     "output_type": "stream",
     "text": [
      " HELLO WORD\n",
      "hello world\n"
     ]
    }
   ],
   "source": [
    "a  = ' hello word'\n",
    "b= 'HELLO WORLD'\n",
    "print(a.upper())\n",
    "print(b.lower())"
   ]
  },
  {
   "cell_type": "code",
   "execution_count": 9,
   "metadata": {},
   "outputs": [
    {
     "name": "stdout",
     "output_type": "stream",
     "text": [
      "  hello, wolrd \n",
      "hello, wolrd\n"
     ]
    }
   ],
   "source": [
    "x = '  hello, wolrd '\n",
    "print(x)\n",
    "print(x.strip())"
   ]
  },
  {
   "cell_type": "code",
   "execution_count": 12,
   "metadata": {},
   "outputs": [
    {
     "name": "stdout",
     "output_type": "stream",
     "text": [
      "  jello, wolrd \n"
     ]
    }
   ],
   "source": [
    "print(x.replace('h', 'j'))"
   ]
  },
  {
   "cell_type": "code",
   "execution_count": 14,
   "metadata": {},
   "outputs": [
    {
     "name": "stdout",
     "output_type": "stream",
     "text": [
      "['  hello', ' wolrd ']\n"
     ]
    }
   ],
   "source": [
    "print(x.split(','))"
   ]
  },
  {
   "cell_type": "markdown",
   "metadata": {},
   "source": [
    "# list topic start from here\n",
    "1. list can be update/modify\n",
    "2. list can contain duplicate values\n",
    "3. list can store unorder integer\n",
    "4. list can contain diffrent data type values\n"
   ]
  },
  {
   "cell_type": "code",
   "execution_count": 16,
   "metadata": {},
   "outputs": [
    {
     "name": "stdout",
     "output_type": "stream",
     "text": [
      "['apple', 'banana', 'mango']\n"
     ]
    }
   ],
   "source": [
    "newList = ['apple', 'banana', 'mango']\n",
    "print(newList)"
   ]
  },
  {
   "cell_type": "code",
   "execution_count": 19,
   "metadata": {},
   "outputs": [
    {
     "name": "stdout",
     "output_type": "stream",
     "text": [
      "[1, 3, 2, 4, 3, 5, 6, 4]\n"
     ]
    },
    {
     "data": {
      "text/plain": [
       "8"
      ]
     },
     "execution_count": 19,
     "metadata": {},
     "output_type": "execute_result"
    }
   ],
   "source": [
    "#list can be update/modify\n",
    "# list can contain duplicate values\n",
    "# list can store unorder integer\n",
    "# list can contain diffrent data type values\n",
    "\n",
    "intList = [1,3,2,4,3,5,6,4]\n",
    "print(intList)\n",
    "len(intList)"
   ]
  },
  {
   "cell_type": "markdown",
   "metadata": {},
   "source": [
    "# tupples \n",
    "1. tupples can not be update/modify\n",
    "2. tupple can allow duplicate values\n",
    "3. tupples can allow unorder integer list\n",
    "4. tupple can store multiple data type value\n",
    "   "
   ]
  },
  {
   "cell_type": "code",
   "execution_count": 22,
   "metadata": {},
   "outputs": [
    {
     "name": "stdout",
     "output_type": "stream",
     "text": [
      "(1, 2, 4, 3, 4, 5, 6, 7, 8, 9, 'apple')\n"
     ]
    }
   ],
   "source": [
    "newtupple = (1,2,4,3,4,5,6,7,8,9, 'apple')\n",
    "print(newtupple)"
   ]
  },
  {
   "cell_type": "markdown",
   "metadata": {},
   "source": [
    "# Sets\n",
    "1. sets can not be update/modify\n",
    "2. sets can't allow unorder list\n",
    "3. set are order \n",
    "4. Sets don't allow duplicate values\n",
    "5. sets don't have index no.\n",
    "6. sets can store multiple data types values"
   ]
  },
  {
   "cell_type": "code",
   "execution_count": 27,
   "metadata": {},
   "outputs": [
    {
     "name": "stdout",
     "output_type": "stream",
     "text": [
      "{1, 2, 3, 4, 5, 'apple'}\n"
     ]
    }
   ],
   "source": [
    "newSets = {1,2,4,3,5,4,'apple'}\n",
    "print(newSets)"
   ]
  },
  {
   "cell_type": "markdown",
   "metadata": {},
   "source": [
    "# Dictionary \n",
    "1. Dictionary can be update/modify\n",
    "2. Dictonary have key and value\n",
    "3. dictionary start with {} "
   ]
  },
  {
   "cell_type": "code",
   "execution_count": 32,
   "metadata": {},
   "outputs": [
    {
     "name": "stdout",
     "output_type": "stream",
     "text": [
      "John\n"
     ]
    }
   ],
   "source": [
    "stdDic = {\n",
    "    'name': 'John',\n",
    "    'age': 20,\n",
    "    'gender': 'male'\n",
    "}\n",
    "\n",
    "print(stdDic['name'])\n"
   ]
  }
 ],
 "metadata": {
  "kernelspec": {
   "display_name": "Python 3",
   "language": "python",
   "name": "python3"
  },
  "language_info": {
   "codemirror_mode": {
    "name": "ipython",
    "version": 3
   },
   "file_extension": ".py",
   "mimetype": "text/x-python",
   "name": "python",
   "nbconvert_exporter": "python",
   "pygments_lexer": "ipython3",
   "version": "3.11.5"
  }
 },
 "nbformat": 4,
 "nbformat_minor": 2
}
