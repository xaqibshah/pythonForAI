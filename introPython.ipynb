{
 "cells": [
  {
   "cell_type": "code",
   "execution_count": 2,
   "metadata": {},
   "outputs": [
    {
     "name": "stdout",
     "output_type": "stream",
     "text": [
      "hello world\n"
     ]
    }
   ],
   "source": [
    "print('hello world')"
   ]
  },
  {
   "cell_type": "code",
   "execution_count": 6,
   "metadata": {},
   "outputs": [
    {
     "name": "stdout",
     "output_type": "stream",
     "text": [
      " HELLO WORD\n",
      "hello world\n"
     ]
    }
   ],
   "source": [
    "a  = ' hello word'\n",
    "b= 'HELLO WORLD'\n",
    "print(a.upper())\n",
    "print(b.lower())"
   ]
  },
  {
   "cell_type": "code",
   "execution_count": 9,
   "metadata": {},
   "outputs": [
    {
     "name": "stdout",
     "output_type": "stream",
     "text": [
      "  hello, wolrd \n",
      "hello, wolrd\n"
     ]
    }
   ],
   "source": [
    "x = '  hello, wolrd '\n",
    "print(x)\n",
    "print(x.strip())"
   ]
  },
  {
   "cell_type": "code",
   "execution_count": 12,
   "metadata": {},
   "outputs": [
    {
     "name": "stdout",
     "output_type": "stream",
     "text": [
      "  jello, wolrd \n"
     ]
    }
   ],
   "source": [
    "print(x.replace('h', 'j'))"
   ]
  },
  {
   "cell_type": "code",
   "execution_count": 14,
   "metadata": {},
   "outputs": [
    {
     "name": "stdout",
     "output_type": "stream",
     "text": [
      "['  hello', ' wolrd ']\n"
     ]
    }
   ],
   "source": [
    "print(x.split(','))"
   ]
  },
  {
   "cell_type": "markdown",
   "metadata": {},
   "source": [
    "# list topic start from here\n",
    "1. list can be update/modify\n",
    "2. list can contain duplicate values\n",
    "3. list can store unorder integer\n",
    "4. list can contain diffrent data type values\n"
   ]
  },
  {
   "cell_type": "code",
   "execution_count": 16,
   "metadata": {},
   "outputs": [
    {
     "name": "stdout",
     "output_type": "stream",
     "text": [
      "['apple', 'banana', 'mango']\n"
     ]
    }
   ],
   "source": [
    "newList = ['apple', 'banana', 'mango']\n",
    "print(newList)"
   ]
  },
  {
   "cell_type": "code",
   "execution_count": 19,
   "metadata": {},
   "outputs": [
    {
     "name": "stdout",
     "output_type": "stream",
     "text": [
      "[1, 3, 2, 4, 3, 5, 6, 4]\n"
     ]
    },
    {
     "data": {
      "text/plain": [
       "8"
      ]
     },
     "execution_count": 19,
     "metadata": {},
     "output_type": "execute_result"
    }
   ],
   "source": [
    "#list can be update/modify\n",
    "# list can contain duplicate values\n",
    "# list can store unorder integer\n",
    "# list can contain diffrent data type values\n",
    "\n",
    "intList = [1,3,2,4,3,5,6,4]\n",
    "print(intList)\n",
    "len(intList)"
   ]
  },
  {
   "cell_type": "markdown",
   "metadata": {},
   "source": [
    "# tupples \n",
    "1. tupples can not be update/modify\n",
    "2. tupple can allow duplicate values\n",
    "3. tupples can allow unorder integer list\n",
    "4. tupple can store multiple data type value\n",
    "   "
   ]
  },
  {
   "cell_type": "code",
   "execution_count": 22,
   "metadata": {},
   "outputs": [
    {
     "name": "stdout",
     "output_type": "stream",
     "text": [
      "(1, 2, 4, 3, 4, 5, 6, 7, 8, 9, 'apple')\n"
     ]
    }
   ],
   "source": [
    "newtupple = (1,2,4,3,4,5,6,7,8,9, 'apple')\n",
    "print(newtupple)"
   ]
  },
  {
   "cell_type": "markdown",
   "metadata": {},
   "source": [
    "# Sets\n",
    "1. sets can not be update/modify\n",
    "2. sets can't allow unorder list\n",
    "3. set are order \n",
    "4. Sets don't allow duplicate values\n",
    "5. sets don't have index no.\n",
    "6. sets can store multiple data types values"
   ]
  },
  {
   "cell_type": "code",
   "execution_count": 27,
   "metadata": {},
   "outputs": [
    {
     "name": "stdout",
     "output_type": "stream",
     "text": [
      "{1, 2, 3, 4, 5, 'apple'}\n"
     ]
    }
   ],
   "source": [
    "newSets = {1,2,4,3,5,4,'apple'}\n",
    "print(newSets)"
   ]
  },
  {
   "cell_type": "markdown",
   "metadata": {},
   "source": [
    "# Dictionary \n",
    "1. Dictionary can be update/modify\n",
    "2. Dictonary have key and value\n",
    "3. dictionary start with {} "
   ]
  },
  {
   "cell_type": "code",
   "execution_count": 32,
   "metadata": {},
   "outputs": [
    {
     "name": "stdout",
     "output_type": "stream",
     "text": [
      "John\n"
     ]
    }
   ],
   "source": [
    "stdDic = {\n",
    "    'name': 'John',\n",
    "    'age': 20,\n",
    "    'gender': 'male'\n",
    "}\n",
    "\n",
    "print(stdDic['name'])\n"
   ]
  },
  {
   "cell_type": "markdown",
   "metadata": {},
   "source": [
    "# Conditions and Operator (Arthematic and relational)"
   ]
  },
  {
   "cell_type": "code",
   "execution_count": 1,
   "metadata": {},
   "outputs": [
    {
     "name": "stdout",
     "output_type": "stream",
     "text": [
      "a is less than b\n"
     ]
    }
   ],
   "source": [
    "a = 5\n",
    "b = 10\n",
    "if a > b:\n",
    "    print('a is greater than b')\n",
    "else:\n",
    "    print('a is less than b')\n",
    "    "
   ]
  },
  {
   "cell_type": "code",
   "execution_count": 7,
   "metadata": {},
   "outputs": [
    {
     "name": "stdout",
     "output_type": "stream",
     "text": [
      "c is greater than a and b\n"
     ]
    }
   ],
   "source": [
    "a = 10\n",
    "b = 5\n",
    "c = 19\n",
    "\n",
    "if a > b and a > c:\n",
    "    print('a is greater than b and c')\n",
    "elif b > a and b > c:\n",
    "    print('b is greater than a and c')\n",
    "else:\n",
    "    print('c is greater than a and b')"
   ]
  },
  {
   "cell_type": "markdown",
   "metadata": {},
   "source": [
    "# Loops Start from here \n",
    "1. for loop\n",
    "2. While Loop\n",
    "   "
   ]
  },
  {
   "cell_type": "code",
   "execution_count": 12,
   "metadata": {},
   "outputs": [
    {
     "name": "stdout",
     "output_type": "stream",
     "text": [
      "Hello world 0\n",
      "Hello Pakistan\n",
      "Hello world 1\n",
      "Hello Pakistan\n",
      "Hello world 2\n",
      "Hello Pakistan\n",
      "Hello world 3\n",
      "Hello Pakistan\n",
      "Hello world 4\n",
      "Hello Pakistan\n",
      "Hello world 5\n",
      "Hello Pakistan\n",
      "Hello world 6\n",
      "Hello Pakistan\n",
      "Hello world 7\n",
      "Hello Pakistan\n",
      "Hello world 8\n",
      "Hello Pakistan\n",
      "Hello world 9\n",
      "Hello Pakistan\n"
     ]
    }
   ],
   "source": [
    "for i in range(10):\n",
    "    print(\"Hello world\", i)\n",
    "    print('Hello Pakistan')"
   ]
  },
  {
   "cell_type": "code",
   "execution_count": 15,
   "metadata": {},
   "outputs": [
    {
     "name": "stdout",
     "output_type": "stream",
     "text": [
      "apple\n",
      "banana\n",
      "cherry\n"
     ]
    }
   ],
   "source": [
    "# when we take one item from any collection is called itrate/iteration\n",
    "fruits = ['apple', 'banana','cherry']\n",
    "for fruit in fruits:\n",
    "    print(fruit)"
   ]
  },
  {
   "cell_type": "code",
   "execution_count": 19,
   "metadata": {},
   "outputs": [
    {
     "name": "stdout",
     "output_type": "stream",
     "text": [
      "10\n",
      "50\n",
      "40\n",
      "60\n",
      "60\n",
      "55\n",
      "55\n",
      "15\n",
      "100\n",
      "100\n",
      "90\n",
      "90\n"
     ]
    }
   ],
   "source": [
    "numList = [10,50,40,60,55,15,100,90]\n",
    "for number in numList:\n",
    "    print(number)\n",
    "    if number > 50:\n",
    "        print(number)"
   ]
  },
  {
   "cell_type": "code",
   "execution_count": 21,
   "metadata": {},
   "outputs": [
    {
     "name": "stdout",
     "output_type": "stream",
     "text": [
      "0\n",
      "1\n",
      "2\n",
      "3\n",
      "4\n",
      "5\n",
      "6\n",
      "7\n",
      "8\n",
      "9\n"
     ]
    }
   ],
   "source": [
    "for i in range(10):\n",
    "    print(i)"
   ]
  },
  {
   "cell_type": "code",
   "execution_count": 22,
   "metadata": {},
   "outputs": [
    {
     "name": "stdout",
     "output_type": "stream",
     "text": [
      "3\n",
      "4\n",
      "5\n",
      "6\n",
      "7\n",
      "8\n"
     ]
    }
   ],
   "source": [
    "# custome range\n",
    "for i in range(3,9):\n",
    "    print(i)"
   ]
  },
  {
   "cell_type": "code",
   "execution_count": 25,
   "metadata": {},
   "outputs": [
    {
     "name": "stdout",
     "output_type": "stream",
     "text": [
      "0 10\n",
      "1 20\n",
      "2 30\n",
      "3 40\n",
      "4 50\n",
      "5 60\n",
      "6 80\n"
     ]
    }
   ],
   "source": [
    "myList = [10,20,30,40,50,60,80]\n",
    "for i in range(len(myList)):\n",
    "    print(i, myList[i])"
   ]
  },
  {
   "cell_type": "code",
   "execution_count": 50,
   "metadata": {},
   "outputs": [
    {
     "name": "stdout",
     "output_type": "stream",
     "text": [
      "1 is odd\n",
      "2 is even\n",
      "3 is odd\n",
      "4 is even\n",
      "5 is odd\n",
      "6 is even\n",
      "7 is odd\n",
      "8 is even\n",
      "10 is even\n",
      "11 is odd\n",
      "25 is odd\n",
      "22 is even\n",
      "36 is even\n",
      "35 is odd\n"
     ]
    }
   ],
   "source": [
    "numbers = [1,2,3,4,5,6,7,8,10,11,25,22,36,35]\n",
    "for i in numbers:\n",
    "    if i % 2 == 0:\n",
    "        print(i, 'is even')\n",
    "    else:\n",
    "        print(i, 'is odd')"
   ]
  },
  {
   "cell_type": "markdown",
   "metadata": {},
   "source": [
    "## While loop"
   ]
  },
  {
   "cell_type": "code",
   "execution_count": 53,
   "metadata": {},
   "outputs": [
    {
     "name": "stdout",
     "output_type": "stream",
     "text": [
      "1\n",
      "2\n",
      "3\n",
      "4\n",
      "5\n"
     ]
    }
   ],
   "source": [
    "i = 1\n",
    "\n",
    "while i < 6:\n",
    "    print(i)\n",
    "    i += 1"
   ]
  },
  {
   "cell_type": "code",
   "execution_count": 58,
   "metadata": {},
   "outputs": [
    {
     "name": "stdout",
     "output_type": "stream",
     "text": [
      "print hello 1\n",
      "print hello 2\n",
      "print hello 3\n",
      "print hello 4\n",
      "print hello 5\n",
      "print hello 6\n",
      "print hello 7\n",
      "print hello 8\n",
      "print hello 9\n",
      "print hello 10\n"
     ]
    }
   ],
   "source": [
    "#while loop\n",
    "count = 0\n",
    "while count < 10:\n",
    "    # print(count)\n",
    "    count += 1\n",
    "    print(\"print hello\", count)"
   ]
  },
  {
   "cell_type": "code",
   "execution_count": 64,
   "metadata": {},
   "outputs": [
    {
     "name": "stdout",
     "output_type": "stream",
     "text": [
      "Wrong password, try again\n",
      "Wrong password, try again\n",
      "You are logged in\n"
     ]
    }
   ],
   "source": [
    "# user imput validation\n",
    "password = \"\"\n",
    "while password != 'hello':\n",
    "    password = input('Enter password: ')\n",
    "    if password == 'hello':\n",
    "        print('You are logged in')\n",
    "    else:\n",
    "        print('Wrong password, try again')\n",
    "# while True:\n",
    "#     name = input('Enter your name: ')\n",
    "#     if name == 'stop':\n",
    "#         break\n",
    "#     age = input('Enter your age: ')\n",
    "#     print('Hello', name, 'your age is', age)"
   ]
  },
  {
   "cell_type": "code",
   "execution_count": 66,
   "metadata": {},
   "outputs": [
    {
     "name": "stdout",
     "output_type": "stream",
     "text": [
      "The sumis:  1\n",
      "The sumis:  3\n",
      "The sumis:  6\n",
      "The sumis:  10\n",
      "The sumis:  15\n",
      "The sumis:  21\n",
      "The sumis:  28\n",
      "The sumis:  36\n",
      "The sumis:  45\n"
     ]
    }
   ],
   "source": [
    "total = 0\n",
    "num = 1\n",
    "while num < 10:\n",
    "    total += num\n",
    "    num += 1\n",
    "    print(\"The sum is: \",total)"
   ]
  },
  {
   "cell_type": "code",
   "execution_count": 28,
   "metadata": {},
   "outputs": [
    {
     "data": {
      "text/plain": [
       "7"
      ]
     },
     "execution_count": 28,
     "metadata": {},
     "output_type": "execute_result"
    }
   ],
   "source": [
    "# length of any list\n",
    "len(myList)"
   ]
  },
  {
   "cell_type": "code",
   "execution_count": 36,
   "metadata": {},
   "outputs": [
    {
     "name": "stdout",
     "output_type": "stream",
     "text": [
      "brand\n",
      "model\n",
      "year\n",
      "Ford\n",
      "Mustang\n",
      "2020\n"
     ]
    }
   ],
   "source": [
    "my_dict = {\n",
    "    'brand': 'Ford',\n",
    "    'model' :   'Mustang',\n",
    "    'year' : 1964,\n",
    "    'year' : 2020\n",
    "}\n",
    "\n",
    "for key in my_dict:\n",
    "    # print(key, my_dict[key])\n",
    "    print(key)\n",
    "\n",
    "for value in my_dict.values():\n",
    "    print(value)\n"
   ]
  },
  {
   "cell_type": "markdown",
   "metadata": {},
   "source": [
    "# Function strat from here"
   ]
  },
  {
   "cell_type": "code",
   "execution_count": 41,
   "metadata": {},
   "outputs": [
    {
     "name": "stdout",
     "output_type": "stream",
     "text": [
      "hello Pakistan\n",
      "hello Pakistan\n",
      "hello Pakistan\n",
      "hello Pakistan\n"
     ]
    }
   ],
   "source": [
    "def helloPrint ():\n",
    "    print('hello Pakistan')\n",
    "    print('hello Pakistan')\n",
    "\n",
    "\n",
    "\n",
    "helloPrint()\n",
    "helloPrint()"
   ]
  },
  {
   "cell_type": "code",
   "execution_count": 43,
   "metadata": {},
   "outputs": [
    {
     "name": "stdout",
     "output_type": "stream",
     "text": [
      "This is sum:  30\n"
     ]
    }
   ],
   "source": [
    "# here a and b are  parameter\n",
    "def sumFunc(a, b):\n",
    "    sum = a + b\n",
    "    return sum\n",
    "\n",
    "# here values are attribute \n",
    "result = sumFunc(10, 20)\n",
    "print(\"This is sum: \", result)"
   ]
  },
  {
   "cell_type": "code",
   "execution_count": 45,
   "metadata": {},
   "outputs": [
    {
     "name": "stdout",
     "output_type": "stream",
     "text": [
      "apple\n",
      "banana\n",
      "cherry\n"
     ]
    }
   ],
   "source": [
    "def myFunc (food):\n",
    "    for x in food:\n",
    "        print(x)\n",
    "\n",
    "# fruits = []\n",
    "myFunc(fruits)"
   ]
  },
  {
   "cell_type": "code",
   "execution_count": 47,
   "metadata": {},
   "outputs": [
    {
     "name": "stdout",
     "output_type": "stream",
     "text": [
      "25\n",
      "50\n",
      "45\n"
     ]
    }
   ],
   "source": [
    "def multplFunc (x):\n",
    "    return 5 * x\n",
    "\n",
    "# result = multplFunc(10)\n",
    "# print(result)\n",
    "\n",
    "\n",
    "print(multplFunc(5))\n",
    "print(multplFunc(10))\n",
    "print(multplFunc(9))"
   ]
  },
  {
   "cell_type": "code",
   "execution_count": 49,
   "metadata": {},
   "outputs": [
    {
     "name": "stdout",
     "output_type": "stream",
     "text": [
      "Hello World\n",
      "Hello Pakistan\n"
     ]
    }
   ],
   "source": [
    "def greetFunc (name = 'World'):\n",
    "    print('Hello', name)\n",
    "\n",
    "greetFunc()\n",
    "\n",
    "greetFunc('Pakistan')"
   ]
  },
  {
   "cell_type": "code",
   "execution_count": null,
   "metadata": {},
   "outputs": [],
   "source": []
  }
 ],
 "metadata": {
  "kernelspec": {
   "display_name": "Python 3",
   "language": "python",
   "name": "python3"
  },
  "language_info": {
   "codemirror_mode": {
    "name": "ipython",
    "version": 3
   },
   "file_extension": ".py",
   "mimetype": "text/x-python",
   "name": "python",
   "nbconvert_exporter": "python",
   "pygments_lexer": "ipython3",
   "version": "3.11.5"
  }
 },
 "nbformat": 4,
 "nbformat_minor": 2
}
